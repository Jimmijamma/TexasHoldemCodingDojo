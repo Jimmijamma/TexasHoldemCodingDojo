{
 "cells": [
  {
   "cell_type": "markdown",
   "id": "d0f33ae6",
   "metadata": {},
   "source": [
    "# Poker Texas Hold'em Coding Dojo"
   ]
  },
  {
   "cell_type": "markdown",
   "id": "286dd0de",
   "metadata": {},
   "source": [
    "## The problem\n",
    "This notebook shows a solution to the Coding Dojo \"Texas HoldEm\" Kata using Python 3.9.\n",
    "The description of the problem can be found [here](https://codingdojo.org/kata/TexasHoldEm/)."
   ]
  },
  {
   "cell_type": "code",
   "execution_count": 36,
   "id": "8272b2af",
   "metadata": {},
   "outputs": [],
   "source": [
    "from collections import Counter, defaultdict\n",
    "from itertools import combinations"
   ]
  },
  {
   "cell_type": "markdown",
   "id": "1b14bdf8",
   "metadata": {},
   "source": [
    "## The input\n",
    "The input of the game (i.e. the hands of the Poker game) were hard-coded as variable: I preferred to focus on solving the problem rather than managing input lines from command line or file.\n",
    "No checks on the input cards were made, supposing that the given input is well-formatted."
   ]
  },
  {
   "cell_type": "code",
   "execution_count": 37,
   "id": "279c4062",
   "metadata": {},
   "outputs": [],
   "source": [
    "INPUT=[\n",
    "  \"Kc 9s Ks Kd 9d 3c 6d\",\n",
    "  \"9c Ah Ks Kd 9d 3c 6d\",\n",
    "  \"Ac Qc Ks Kd 9d 3c\",\n",
    "  \"9h 5s\",\n",
    "  \"4d 2d Ks Kd 9d 3c 6d\",\n",
    "  \"7s Ts Ks Kd 9d\"\n",
    "]"
   ]
  },
  {
   "cell_type": "markdown",
   "id": "37d3a67c",
   "metadata": {},
   "source": [
    "## Utilities\n",
    "I defined two dictionnaries:\n",
    "- FACES_DICT: to have a sortable value for the card faces\n",
    "- RANKS: to associate to each rank a sortable value and a human readable string"
   ]
  },
  {
   "cell_type": "code",
   "execution_count": 38,
   "id": "9bcb7b03",
   "metadata": {},
   "outputs": [],
   "source": [
    "FACES_DICT={\n",
    "    \"2\":2,\n",
    "    \"3\":3,\n",
    "    \"4\":4,\n",
    "    \"5\":5,\n",
    "    \"6\":6,\n",
    "    \"7\":7,\n",
    "    \"8\":8,\n",
    "    \"9\":9,\n",
    "    \"T\":10,\n",
    "    \"J\":11,\n",
    "    \"Q\":12,\n",
    "    \"K\":13,\n",
    "    \"A\":14\n",
    "    }\n",
    "\n",
    "RANKS={\n",
    " \"R_FLUSH\":{\"value\":10, \"text\":\"Royal Flush\"},\n",
    " \"S_FLUSH\":{\"value\":9, \"text\":\"Straight Flush\"},\n",
    " \"FOUR\":{\"value\":8,\"text\":\"Four of a kind\"},\n",
    " \"FULL_H\":{\"value\":7,\"text\":\"Full House\"},\n",
    " \"FLUSH\":{\"value\":6,\"text\":\"Flush\"},\n",
    " \"STRAIGHT\":{\"value\":5, \"text\":\"Straight\"},\n",
    " \"THREE\":{\"value\":4, \"text\":\"Three of a kind\"},\n",
    " \"2_PAIR\":{\"value\":3, \"text\":\"Two pair\"},\n",
    " \"PAIR\":{\"value\":2, \"text\":\"Pair\"},\n",
    " \"HIGH\":{\"value\":1, \"text\":\"High card\"},\n",
    " \"FOLD\":{\"value\":0, \"text\":\"Fold\"}\n",
    "}"
   ]
  },
  {
   "cell_type": "markdown",
   "id": "05d66cd9",
   "metadata": {},
   "source": [
    "## The Python Classes\n",
    "To solve the problem, I defined four main classes."
   ]
  },
  {
   "cell_type": "markdown",
   "id": "448a387d",
   "metadata": {},
   "source": [
    "### Card\n",
    "The Card class defines a card of the game, basically constituted by the suit, and the face, which gives the value of the card. \n",
    "Using the FACES_DICT dictionnary, an integer was associated to each face in order to be able to sort cards depending on their value."
   ]
  },
  {
   "cell_type": "code",
   "execution_count": 39,
   "id": "a13ea450",
   "metadata": {},
   "outputs": [],
   "source": [
    "class Card:\n",
    "    def __init__(self,twocharstring):\n",
    "        self.face=twocharstring[0]\n",
    "        self.suit=twocharstring[1]\n",
    "        self.sortable_face=FACES_DICT[self.face]\n",
    "        \n",
    "    def __str__(self):\n",
    "        return(self.face+self.suit)\n",
    "    \n",
    "    def __repr__(self):\n",
    "        return str(self)"
   ]
  },
  {
   "cell_type": "markdown",
   "id": "36d9c8f3",
   "metadata": {},
   "source": [
    "### Hand\n",
    "The Hand class defines the hand of a player. It is formed by 7 cards: the 2 own cards, plus the 5 community cards on the table. Only the best 5 of those will be used by the player, while the least 2 cards will be unused.\n",
    "<br>\n",
    "This class stores the collection of cards of the player, and a set of methods to assign the best possible rank for the given hand.\n",
    "<br>\n",
    "In particular, the \"getBestRank\" method generates all the possible 5-cards subset for the 7-cards hand, using the itertools.combination method. The Combination class will represent all these possible subsets of cards and will implement methods to find the best rank for each combination.\n",
    "<br>\n",
    "The \"assignBestRank\" method of the Hand class will compare these solutions and find the best 5-cards combination that gives the highest rank to the player's hand."
   ]
  },
  {
   "cell_type": "code",
   "execution_count": 40,
   "id": "bd0bd927",
   "metadata": {},
   "outputs": [],
   "source": [
    "class Hand:\n",
    "    def __init__(self,hand_array):\n",
    "        self.cards=list(map(lambda x: Card(x),hand_array))\n",
    "        self.best_rank=\"HIGH\"\n",
    "        self.best_combination=None,\n",
    "        self.getBestRank()\n",
    "        \n",
    "    def assignBestRank(self,new_rank, comb):\n",
    "        if RANKS[new_rank][\"value\"]>RANKS[self.best_rank][\"value\"]:\n",
    "            self.best_rank=new_rank\n",
    "            self.best_combination=comb\n",
    "        \n",
    "    def getPossibleCombinations(self):\n",
    "        return combinations(self.cards,5)\n",
    "    \n",
    "    def getBestRank(self):\n",
    "        if self.isFold():\n",
    "            self.best_combination=Combination(self.cards,[])\n",
    "            self.best_rank=\"FOLD\"\n",
    "        else:\n",
    "            for _c in self.getPossibleCombinations():\n",
    "                c=Combination(_c,list(set(self.cards)-set(_c)))\n",
    "                c.getLocalBestRank()\n",
    "                self.assignBestRank(c.best_rank,c)\n",
    "            \n",
    "    def isFold(self):\n",
    "        return len(self.cards)<7\n"
   ]
  },
  {
   "cell_type": "markdown",
   "id": "0ff246e5",
   "metadata": {},
   "source": [
    "### Combination\n",
    "The Combination class defines each 5-cards combination generated by the itertools.combination method within the Hand class. In the constructor of the class, also the 2 unused cards will be passed in order to find the best kicker(s).\n",
    "<br>\n",
    "The getLocalBestRank will assign the (local) best rank for each 5-cards combination based on three criteria:\n",
    "- the 5 cards have, or not have, the same suit (FLUSH)\n",
    "- the 5 cards contain consecutive faces (STRAIGHT)\n",
    "- the 5 cards contain groups of identical faces (PAIRS,3-OF-A-KIND,...)"
   ]
  },
  {
   "cell_type": "markdown",
   "id": "8a51ca0b",
   "metadata": {},
   "source": [
    "After this process, it will be possible to divide the cards of the player in 3 groups:\n",
    "- the Ranked cards, i.e. the cards that contribute to the rank\n",
    "- the Kickers, the cards within the 5-cards best combination, that do not contribute to the rank but that could be used to find a winner in case of tie\n",
    "- the Unused cards, the 2 cards that will not be taken into consideration for the player's game"
   ]
  },
  {
   "cell_type": "code",
   "execution_count": 41,
   "id": "e7a853ab",
   "metadata": {},
   "outputs": [],
   "source": [
    "class Combination:\n",
    "    \n",
    "    def __init__(self,combination, unused_cards):\n",
    "        self.cards=list(combination),\n",
    "        self.cards=self.cards[0]\n",
    "        self.suits=list(map(lambda x: x.suit,self.cards))\n",
    "        self.faces=list(map(lambda x: x.sortable_face,self.cards))\n",
    "        self.counter=Counter(self.faces)\n",
    "        self.best_rank=\"HIGH\"\n",
    "        self.ranked=[]\n",
    "        self.kickers=[]\n",
    "        self.unused=unused_cards\n",
    "\n",
    "        \n",
    "    def assignBestRank(self,new_rank):\n",
    "        if RANKS[new_rank][\"value\"]>RANKS[self.best_rank][\"value\"]:\n",
    "            self.best_rank=new_rank\n",
    "            \n",
    "    def isSameSuit(self):\n",
    "        return self.suits.count(self.suits[0])==len(self.suits)\n",
    "    \n",
    "    def hasStraight(self):\n",
    "        return sorted(self.faces)==list(range(min(self.faces), max(self.faces)+1))\n",
    "    \n",
    "    def getLocalBestRank(self):\n",
    "        # same suits\n",
    "        if self.isSameSuit():\n",
    "            if self.hasStraight():\n",
    "                if sorted(self.faces)==[10,11,12,13,14]:\n",
    "                    self.assignBestRank(\"R_FLUSH\")\n",
    "                else:\n",
    "                    self.assignBestRank(\"S_FLUSH\")\n",
    "            else:\n",
    "                self.assignBestRank(\"FLUSH\")\n",
    "        # different suits\n",
    "        else:\n",
    "            if self.hasStraight():\n",
    "                self.assignBestRank(\"STRAIGHT\")\n",
    "            else:\n",
    "                if 4 in self.counter.values():\n",
    "                    self.assignBestRank(\"FOUR\")\n",
    "                elif 3 in self.counter.values():\n",
    "                   \n",
    "                    if 2 in self.counter.values():\n",
    "                        self.assignBestRank(\"FULL_H\")\n",
    "                    else:\n",
    "                        self.assignBestRank(\"THREE\")\n",
    "                elif 2 in self.counter.values():\n",
    "                    if list(self.counter.values()).count(2)==2:\n",
    "                        self.assignBestRank(\"2_PAIR\")\n",
    "                    else:\n",
    "                        self.assignBestRank(\"PAIR\")\n",
    "                else:\n",
    "                    self.assignBestRank(\"HIGH\")\n",
    "                    \n",
    "        self.defineRanked()\n",
    "                    \n",
    "    def defineRanked(self):\n",
    "        if self.isSameSuit() or self.hasStraight():\n",
    "            self.ranked=list(sorted(self.cards,key=lambda x:x.sortable_face,reverse=True))\n",
    "        else:\n",
    "            if self.best_rank==\"HIGH\":\n",
    "                self.ranked.append(list(sorted(self.cards,key=lambda x:x.sortable_face,reverse=True))[0])\n",
    "                \n",
    "            else:\n",
    "                self.ranked=list(sorted(filter(lambda x:self.counter[x.sortable_face]>1, self.cards),key=(lambda x:x.sortable_face), reverse=True))\n",
    "                \n",
    "        self.defineKickers()\n",
    "\n",
    "                    \n",
    "    def defineKickers(self):\n",
    "        self.kickers=list(sorted(list(set(self.cards) - set(self.ranked)) + self.unused, key=(lambda x:x.sortable_face), reverse=True))\n",
    "        self.unused=self.kickers[-2:]\n",
    "        self.kickers=list(set(self.kickers) - set(self.unused))"
   ]
  },
  {
   "cell_type": "markdown",
   "id": "3ab2153a",
   "metadata": {},
   "source": [
    "### Game\n",
    "The Game class just initialises the game, taking as input the list of Hands objects, one for each player.\n",
    "<br>\n",
    "Then, the \"finalRanking\" method computes the winner of the game, comparing at first the highest rank for each player (hand). If the hands have the same rank, the values of the Ranked cards should be compared: who has the highest values wins. If the players are still tied, the values Kickers cards should be compared: who has the highest values wins. If there is still a tie, both players are considered as best hands, until they are not being compared to a higher-ranked hand.\n",
    "<br>\n",
    "The core of the comparison of tied hands is done by the two methods:\n",
    "- \"compareSequence\"\n",
    "- \"compareGroupedSequence\""
   ]
  },
  {
   "cell_type": "markdown",
   "id": "8527d545",
   "metadata": {},
   "source": [
    "#### The \"compareSequence\" method\n",
    "This methods compares, element-wise, two ordered sequences of values. The algorithm goes on comparing each element of the two arrays until it finds that one element of a sequence is greater than the corresponding element in the second sequence.\n",
    "<br>\n",
    "For example, the first elements of the two arrays are compared. If they have the same value, the algorithm goes on to the second element of the two arrays. Otherwise, the algorithm stops and returns an indication (1 or 2) on which array has the highest element.\n",
    "<br>\n",
    "If even the last elements of each array are equal, the two sequences are considered tied and 0 is returned."
   ]
  },
  {
   "cell_type": "markdown",
   "id": "91828652",
   "metadata": {},
   "source": [
    "#### The \"compareGroupedSequence\" method\n",
    "This method assumes that every possible sequence of cards can be considered as an ensembe of *n* groups of *m* cards each having the same face.\n",
    "<br>\n",
    "For example, a STRAIGHT hand can be considered as an ensemble of 5 groups of 1 card each. Each card (the only one) of the group has a unique face. \n",
    "<br>\n",
    "A FULL_HOUSE hand has 2 groups: one having 3 cards with the same face, the other having 2 cards with the same face.\n",
    "<br>\n",
    "So, one can think to build a dictionnary of the occurrences of each face and reverting it, having the cardinality of the groups as keys, and the values of the faces that they represent, as values.\n",
    "<br>\n",
    "Since it is possible that two groups with the same cardinality exist, like in the case of a Straight (5 groups of cadinality 1), or in the case of Two Pairs (2 groups of cardinality 2, 1 group of cardinality 1), the values of the dictionnary belonging to the same cardinality are appended to a list, sorted by descending value of the face.\n",
    "<br>\n",
    "In that way, in order to compare two tied hands, it is sufficient to consider the cardinalities of each hand in descending order (in the case of Full House, at first consider cardinality 3, then cardinality 2) and compare the corresponding dictionnary values using the \"compareSequence\" method. If this methods finds that a set of cards has the highest values for that cardinality, that set of cards is the winner.\n",
    "<br>\n",
    "The \"compareGroupedSequence\" is applied both to Ranked cards and Kickers, in order to compare tied hands."
   ]
  },
  {
   "cell_type": "code",
   "execution_count": 42,
   "id": "40b45ccc",
   "metadata": {},
   "outputs": [],
   "source": [
    "class Game:\n",
    "    \n",
    "    def __init__(self, hands):\n",
    "        self.hands=hands\n",
    "        self.best_rank=\"FOLD\"\n",
    "        self.best_hands=[]\n",
    "        \n",
    "        \n",
    "    def finalRanking(self):\n",
    "        for h in hands:\n",
    "            if h.best_rank!=\"FOLD\":\n",
    "                if RANKS[h.best_rank][\"value\"]>RANKS[self.best_rank][\"value\"]:\n",
    "                    self.best_rank=h.best_rank\n",
    "                    self.best_hands=[]\n",
    "                    self.best_hands.append(h)\n",
    "                elif RANKS[h.best_rank][\"value\"]<RANKS[self.best_rank][\"value\"]:\n",
    "                    pass\n",
    "                else:\n",
    "                    # tie, compare ranked\n",
    "                    ranked_a=list(map(lambda x:x.sortable_face,self.best_hands[0].best_combination.ranked))\n",
    "                    ranked_b=list(map(lambda x:x.sortable_face,h.best_combination.ranked))\n",
    "                    res=self.compareGroupedSequence(ranked_a, ranked_b)\n",
    "                    if res==2:\n",
    "                        self.best_rank=h.best_rank\n",
    "                        self.best_hands=[]\n",
    "                        self.best_hands.append(h)\n",
    "                    elif res==1:\n",
    "                        self.worst_hands.append(h)\n",
    "                    else:\n",
    "                        # tie, compare kickers\n",
    "                        kickers_a=list(map(lambda x:x.sortable_face,self.best_hands[0].best_combination.kickers))\n",
    "                        kickers_b=list(map(lambda x:x.sortable_face,h.best_combination.kickers))\n",
    "                        if len(kickers_a)>0:\n",
    "                            res2=self.compareGroupedSequence(kickers_a, kickers_b)\n",
    "                            if res2==2:\n",
    "                                self.best_rank=h.best_rank\n",
    "                                self.best_hands=[]\n",
    "                                self.best_hands.append(h)\n",
    "                            elif res2==1:\n",
    "                                pass\n",
    "                            else:\n",
    "                                self.best_hands.append(h)\n",
    "                        else:\n",
    "                            self.best_hands.append(h)\n",
    "                    \n",
    "                \n",
    "    def compareSequence(self,a,b):\n",
    "        for i in range(len(a)):\n",
    "            if a[i]>b[i]:\n",
    "                return 1\n",
    "            elif a[i]<b[i]:\n",
    "                return 2\n",
    "            else:\n",
    "                continue\n",
    "        return 0\n",
    "    \n",
    "    \n",
    "    def compareGroupedSequence(self,a,b):\n",
    "        a_count=Counter(a)\n",
    "        b_count=Counter(b)\n",
    "        \n",
    "        v = defaultdict(list)\n",
    "        for key, value in sorted(a_count.items(),reverse=True):\n",
    "            v[value].append(key)\n",
    "        a_count=v\n",
    "        \n",
    "        v = defaultdict(list)\n",
    "        for key, value in sorted(b_count.items(),reverse=True):\n",
    "            v[value].append(key)\n",
    "        b_count=v\n",
    "        \n",
    "        res=0\n",
    "        for k in sorted(a_count.keys(), reverse=True):\n",
    "            res=self.compareSequence(a_count[k], b_count[k])\n",
    "            if res==0:\n",
    "                continue\n",
    "            else:\n",
    "                return res\n",
    "        return res"
   ]
  },
  {
   "cell_type": "markdown",
   "id": "bac9668d",
   "metadata": {},
   "source": [
    "## The main\n",
    "The main of the script instantiate a Hand object for each line of the input and assigns them to a Game object.\n",
    "<br>\n",
    "The final ranking is computed and the ranks of the hands are shown on the side of each non-folded hand. a \"(Winner)\" string is added to the winner hand(s).\n",
    "The hands of the players are shown considering at first the Ranked cards (ordered by descending value), then the Kickers, and finally the two Unused cards."
   ]
  },
  {
   "cell_type": "code",
   "execution_count": 43,
   "id": "ba803324",
   "metadata": {},
   "outputs": [
    {
     "name": "stdout",
     "output_type": "stream",
     "text": [
      "[Kc, Ks, Kd, 9s, 9d, 6d, 3c] Full House (Winner)\n",
      "[Ks, Kd, 9c, 9d, Ah, 6d, 3c] Two pair\n",
      "[Ac, Qc, Ks, Kd, 9d, 3c]\n",
      "[9h, 5s]\n",
      "[Kd, 9d, 6d, 4d, 2d, Ks, 3c] Flush\n",
      "[7s, Ts, Ks, Kd, 9d]\n"
     ]
    }
   ],
   "source": [
    "hands=[Hand(row.split(\" \")) for row in INPUT]\n",
    "g=Game(hands)\n",
    "g.finalRanking()\n",
    "for h in g.hands:\n",
    "    if h.best_rank!=\"FOLD\":\n",
    "       if h in g.best_hands:\n",
    "           print (h.best_combination.ranked+h.best_combination.kickers+h.best_combination.unused, RANKS[h.best_rank][\"text\"], \"(Winner)\")\n",
    "       else:\n",
    "           print (h.best_combination.ranked+h.best_combination.kickers+h.best_combination.unused, RANKS[h.best_rank][\"text\"])    \n",
    "    else:\n",
    "        print (h.best_combination.cards)"
   ]
  }
 ],
 "metadata": {
  "kernelspec": {
   "display_name": "Python 3 (ipykernel)",
   "language": "python",
   "name": "python3"
  },
  "language_info": {
   "codemirror_mode": {
    "name": "ipython",
    "version": 3
   },
   "file_extension": ".py",
   "mimetype": "text/x-python",
   "name": "python",
   "nbconvert_exporter": "python",
   "pygments_lexer": "ipython3",
   "version": "3.9.7"
  }
 },
 "nbformat": 4,
 "nbformat_minor": 5
}
