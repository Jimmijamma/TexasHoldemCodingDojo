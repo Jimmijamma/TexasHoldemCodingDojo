{
 "cells": [
  {
   "cell_type": "code",
   "execution_count": null,
   "id": "2ab2b557",
   "metadata": {},
   "outputs": [],
   "source": [
    "from collections import Counter, defaultdict\n",
    "from itertools import combinations"
   ]
  },
  {
   "cell_type": "code",
   "execution_count": 1,
   "id": "449adfe5",
   "metadata": {},
   "outputs": [],
   "source": [
    "INPUT=[\n",
    "  \"Kc 9s Ks Kd 9d 3c 6d\",\n",
    "  \"Kc Ts Ks Kd Td 3c 6d\",\n",
    "  \"9c Ah Ks Kd 9d 3c 6d\",\n",
    "  \"Ac Qc Ks Kd 9d 3c\",\n",
    "  \"9h 5s\",\n",
    "  \"4d 2d Ks Kd 9d 3c 6d\",\n",
    "  \"7s Ts Ks Kd 9d\"\n",
    "]"
   ]
  },
  {
   "cell_type": "code",
   "execution_count": 3,
   "id": "63658ea7",
   "metadata": {},
   "outputs": [],
   "source": [
    "FACES_DICT={\n",
    "    \"2\":2,\n",
    "    \"3\":3,\n",
    "    \"4\":4,\n",
    "    \"5\":5,\n",
    "    \"6\":6,\n",
    "    \"7\":7,\n",
    "    \"8\":8,\n",
    "    \"9\":9,\n",
    "    \"T\":10,\n",
    "    \"J\":11,\n",
    "    \"Q\":12,\n",
    "    \"K\":13,\n",
    "    \"A\":14\n",
    "    }\n",
    "\n",
    "RANKS={\n",
    " \"R_FLUSH\":{\"value\":10, \"text\":\"Royal Flush\"},\n",
    " \"S_FLUSH\":{\"value\":9, \"text\":\"Straight Flush\"},\n",
    " \"FOUR\":{\"value\":8,\"text\":\"Four of a kind\"},\n",
    " \"FULL_H\":{\"value\":7,\"text\":\"Full House\"},\n",
    " \"FLUSH\":{\"value\":6,\"text\":\"Flush\"},\n",
    " \"STRAIGHT\":{\"value\":5, \"text\":\"Straight\"},\n",
    " \"THREE\":{\"value\":4, \"text\":\"Three of a kind\"},\n",
    " \"2_PAIR\":{\"value\":3, \"text\":\"Two pair\"},\n",
    " \"PAIR\":{\"value\":2, \"text\":\"Pair\"},\n",
    " \"HIGH\":{\"value\":1, \"text\":\"High card\"},\n",
    " \"FOLD\":{\"value\":0, \"text\":\"Fold\"}\n",
    "}"
   ]
  },
  {
   "cell_type": "code",
   "execution_count": 4,
   "id": "e4aaf87f",
   "metadata": {},
   "outputs": [],
   "source": [
    "class Card:\n",
    "    def __init__(self,twocharstring):\n",
    "        self.face=twocharstring[0]\n",
    "        self.suit=twocharstring[1]\n",
    "        self.sortable_face=FACES_DICT[self.face]\n",
    "        \n",
    "    def __str__(self):\n",
    "        return(self.face+self.suit)\n",
    "    \n",
    "    def __repr__(self):\n",
    "        return str(self)"
   ]
  },
  {
   "cell_type": "code",
   "execution_count": null,
   "id": "c79687aa",
   "metadata": {},
   "outputs": [],
   "source": []
  }
 ],
 "metadata": {
  "kernelspec": {
   "display_name": "Python 3 (ipykernel)",
   "language": "python",
   "name": "python3"
  },
  "language_info": {
   "codemirror_mode": {
    "name": "ipython",
    "version": 3
   },
   "file_extension": ".py",
   "mimetype": "text/x-python",
   "name": "python",
   "nbconvert_exporter": "python",
   "pygments_lexer": "ipython3",
   "version": "3.9.7"
  }
 },
 "nbformat": 4,
 "nbformat_minor": 5
}
